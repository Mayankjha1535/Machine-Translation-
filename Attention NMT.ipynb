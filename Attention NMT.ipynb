{
 "cells": [
  {
   "cell_type": "code",
   "execution_count": 1,
   "metadata": {
    "colab": {
     "base_uri": "https://localhost:8080/",
     "height": 122
    },
    "colab_type": "code",
    "id": "OJk1LtPFZmGw",
    "outputId": "546c820a-a926-4ed9-c477-8ce3ca95d6ff"
   },
   "outputs": [
    {
     "name": "stdout",
     "output_type": "stream",
     "text": [
      "Go to this URL in a browser: https://accounts.google.com/o/oauth2/auth?client_id=947318989803-6bn6qk8qdgf4n4g3pfee6491hc0brc4i.apps.googleusercontent.com&redirect_uri=urn%3aietf%3awg%3aoauth%3a2.0%3aoob&response_type=code&scope=email%20https%3a%2f%2fwww.googleapis.com%2fauth%2fdocs.test%20https%3a%2f%2fwww.googleapis.com%2fauth%2fdrive%20https%3a%2f%2fwww.googleapis.com%2fauth%2fdrive.photos.readonly%20https%3a%2f%2fwww.googleapis.com%2fauth%2fpeopleapi.readonly\n",
      "\n",
      "Enter your authorization code:\n",
      "··········\n",
      "Mounted at /content/drive\n"
     ]
    }
   ],
   "source": [
    "from google.colab import drive\n",
    "drive.mount('/content/drive')"
   ]
  },
  {
   "cell_type": "code",
   "execution_count": 2,
   "metadata": {
    "colab": {},
    "colab_type": "code",
    "id": "kezfgmujGi3r"
   },
   "outputs": [],
   "source": [
    "import pickle"
   ]
  },
  {
   "cell_type": "code",
   "execution_count": 3,
   "metadata": {
    "colab": {
     "base_uri": "https://localhost:8080/",
     "height": 34
    },
    "colab_type": "code",
    "id": "Ofn3hvBuHBJr",
    "outputId": "78f2cc96-4186-4629-c2d0-33a01e8c607e"
   },
   "outputs": [
    {
     "data": {
      "text/plain": [
       "(70000, 2)"
      ]
     },
     "execution_count": 3,
     "metadata": {
      "tags": []
     },
     "output_type": "execute_result"
    }
   ],
   "source": [
    "filename = '/content/drive/My Drive/data.pkl'         ###load the whole data to create tokenizer\n",
    "data = pickle.load(open(filename,'rb'))\n",
    "data.shape"
   ]
  },
  {
   "cell_type": "code",
   "execution_count": 4,
   "metadata": {
    "colab": {},
    "colab_type": "code",
    "id": "DfWoQIrdHDCn"
   },
   "outputs": [],
   "source": [
    "for i in range(len(data)):                    ###add start and end tokens in german to denote start and end of sequence\n",
    "    data[i,1]='start '+ data[i,1] + ' end'"
   ]
  },
  {
   "cell_type": "code",
   "execution_count": 5,
   "metadata": {
    "colab": {
     "base_uri": "https://localhost:8080/",
     "height": 34
    },
    "colab_type": "code",
    "id": "bGQFpdhIHE_3",
    "outputId": "3e69f57e-01a7-4910-d13c-c88ec9d5babc"
   },
   "outputs": [
    {
     "name": "stderr",
     "output_type": "stream",
     "text": [
      "Using TensorFlow backend.\n"
     ]
    }
   ],
   "source": [
    "from keras.preprocessing.text import Tokenizer\n",
    "from keras.preprocessing.sequence import pad_sequences"
   ]
  },
  {
   "cell_type": "code",
   "execution_count": 6,
   "metadata": {
    "colab": {},
    "colab_type": "code",
    "id": "XfQEhLHpHHcn"
   },
   "outputs": [],
   "source": [
    "def create_tokens(lines):\n",
    "    tokens = Tokenizer()        ###function to create tokens\n",
    "    tokens.fit_on_texts(lines)\n",
    "    return tokens"
   ]
  },
  {
   "cell_type": "code",
   "execution_count": 7,
   "metadata": {
    "colab": {},
    "colab_type": "code",
    "id": "XXy2X9V8HJg2"
   },
   "outputs": [],
   "source": [
    "english_tokenizer = create_tokens(data[:,0])       ###fit a tokenizer\n",
    "german_tokenizer = create_tokens(data[:,1])"
   ]
  },
  {
   "cell_type": "code",
   "execution_count": 8,
   "metadata": {
    "colab": {},
    "colab_type": "code",
    "id": "oyVkmpEgHMIU"
   },
   "outputs": [],
   "source": [
    "def encode_sentences(tokens,length,lines):   ###function to pad the data to maximum phrase length\n",
    "    X=tokens.texts_to_sequences(lines)\n",
    "    X=pad_sequences(X,length,padding='post')\n",
    "    return X    "
   ]
  },
  {
   "cell_type": "code",
   "execution_count": 9,
   "metadata": {
    "colab": {},
    "colab_type": "code",
    "id": "yI4XZeQkHOE7"
   },
   "outputs": [],
   "source": [
    "def max_len_sen(data):                       ###function to calculate maximum length\n",
    "    return max(len(line.split()) for line in data)"
   ]
  },
  {
   "cell_type": "code",
   "execution_count": 10,
   "metadata": {
    "colab": {
     "base_uri": "https://localhost:8080/",
     "height": 51
    },
    "colab_type": "code",
    "id": "Upj3KppDHQNx",
    "outputId": "d0fbafc1-e511-4662-9472-acccefcf83e2"
   },
   "outputs": [
    {
     "name": "stdout",
     "output_type": "stream",
     "text": [
      "Vocabulary size of english words is 11417\n",
      "Vocabulary size of german words is 21679\n"
     ]
    }
   ],
   "source": [
    "eng_vocab = len(english_tokenizer.word_index)+1\n",
    "german_vocab = len(german_tokenizer.word_index)+1\n",
    "print('Vocabulary size of english words is {}'.format(eng_vocab))\n",
    "print('Vocabulary size of german words is {}'.format(german_vocab))"
   ]
  },
  {
   "cell_type": "code",
   "execution_count": 11,
   "metadata": {
    "colab": {
     "base_uri": "https://localhost:8080/",
     "height": 51
    },
    "colab_type": "code",
    "id": "GR7i8OmDHR_m",
    "outputId": "e2463c6e-2f5a-4ac1-de62-50e7a2aa978a"
   },
   "outputs": [
    {
     "name": "stdout",
     "output_type": "stream",
     "text": [
      "Maximum length in English is 44\n",
      "Maximum length in German is 47\n"
     ]
    }
   ],
   "source": [
    "eng_len = max_len_sen(data[:,0])\n",
    "ger_len = max_len_sen(data[:,1])\n",
    "print ('Maximum length in English is {}'.format(eng_len))\n",
    "print ('Maximum length in German is {}'.format(ger_len))"
   ]
  },
  {
   "cell_type": "code",
   "execution_count": 12,
   "metadata": {
    "colab": {
     "base_uri": "https://localhost:8080/",
     "height": 34
    },
    "colab_type": "code",
    "id": "kqRP-JBDHUg6",
    "outputId": "fdb9e71e-09dc-46e1-ceb9-2edece597b33"
   },
   "outputs": [
    {
     "data": {
      "text/plain": [
       "((50000, 2), (10000, 2), (10000, 2))"
      ]
     },
     "execution_count": 12,
     "metadata": {
      "tags": []
     },
     "output_type": "execute_result"
    }
   ],
   "source": [
    "filename1 = '/content/drive/My Drive/eng-ger_train.pkl'                   ###load training, validation and test data\n",
    "filename2 = '/content/drive/My Drive/eng-ger_val.pkl' \n",
    "filename3 = '/content/drive/My Drive/eng-ger_test.pkl'       \n",
    "train = pickle.load(open(filename1,'rb'))\n",
    "val = pickle.load(open(filename2,'rb'))\n",
    "test = pickle.load(open(filename3,'rb'))\n",
    "train.shape, val.shape, test.shape"
   ]
  },
  {
   "cell_type": "code",
   "execution_count": 13,
   "metadata": {
    "colab": {},
    "colab_type": "code",
    "id": "7ALs928qHWno"
   },
   "outputs": [],
   "source": [
    "for i in range(len(train)):                    ###add start and end tokens in german to denote start and end of sequence\n",
    "    train[i,1]='start '+ train[i,1] + ' end'\n",
    "for i in range(len(val)):                    ##convert to lowercase\n",
    "    val[i,1]='start '+ val[i,1] + ' end'\n",
    "for i in range(len(test)):                    ##convert to lowercase\n",
    "    test[i,1]='start '+ test[i,1] + ' end'\n"
   ]
  },
  {
   "cell_type": "code",
   "execution_count": 14,
   "metadata": {
    "colab": {},
    "colab_type": "code",
    "id": "Tgzf2V-cHY93"
   },
   "outputs": [],
   "source": [
    "X_train = encode_sentences(english_tokenizer,ger_len,train[:,0])          ###pad the data to maximum length\n",
    "X_val = encode_sentences(english_tokenizer,ger_len,val[:,0])              ### X ---> English, Y ---> German\n",
    "X_test= encode_sentences(english_tokenizer,ger_len,test[:,0])\n",
    "Y_train = encode_sentences(german_tokenizer,ger_len,train[:,1])\n",
    "Y_val = encode_sentences(german_tokenizer,ger_len,val[:,1])\n",
    "Y_test = encode_sentences(german_tokenizer,ger_len,test[:,1])"
   ]
  },
  {
   "cell_type": "code",
   "execution_count": 15,
   "metadata": {
    "colab": {
     "base_uri": "https://localhost:8080/",
     "height": 119
    },
    "colab_type": "code",
    "id": "bCM8hjbJHa8x",
    "outputId": "e117449a-8cc2-415b-8f3c-6a15e8b34f27"
   },
   "outputs": [
    {
     "name": "stdout",
     "output_type": "stream",
     "text": [
      "(50000, 47)\n",
      "(10000, 47)\n",
      "(10000, 47)\n",
      "(50000, 47)\n",
      "(10000, 47)\n",
      "(10000, 47)\n"
     ]
    }
   ],
   "source": [
    "print(X_train.shape)\n",
    "print(X_val.shape)   ###check for dimensions\n",
    "print(X_test.shape)\n",
    "print(Y_train.shape)\n",
    "print(Y_val.shape)\n",
    "print(Y_test.shape)"
   ]
  },
  {
   "cell_type": "code",
   "execution_count": 16,
   "metadata": {
    "colab": {},
    "colab_type": "code",
    "id": "N8-HYB_sHc_J"
   },
   "outputs": [],
   "source": [
    "from tensorflow.keras.models import Sequential, load_model,Model\n",
    "from tensorflow.keras.layers import Embedding, Reshape, Lambda, Activation\n",
    "from tensorflow.keras.layers import Dense, Dropout, LSTM, Bidirectional, RepeatVector, TimeDistributed, Concatenate, GRU\n",
    "from tensorflow.keras.layers import Dropout,Input,Dot\n",
    "from tensorflow.keras.callbacks import ModelCheckpoint\n",
    "import numpy as np\n",
    "import tensorflow as tf\n",
    "from tensorflow.keras.backend import permute_dimensions, sqrt, constant"
   ]
  },
  {
   "cell_type": "code",
   "execution_count": 17,
   "metadata": {
    "colab": {},
    "colab_type": "code",
    "id": "rDtBQ3Re1J94"
   },
   "outputs": [],
   "source": [
    "class Encoder(tf.keras.Model):\n",
    "      def __init__(self, vocab_size, embedding_dim, enc_units, batch_sz):\n",
    "        super(Encoder, self).__init__()\n",
    "        self.batch_sz = batch_sz\n",
    "        self.enc_units = enc_units\n",
    "        self.embedding = tf.keras.layers.Embedding(vocab_size, embedding_dim)\n",
    "        self.gru = tf.keras.layers.GRU(self.enc_units,\n",
    "                                   return_sequences=True,\n",
    "                                   return_state=True,\n",
    "                                   recurrent_initializer='glorot_uniform')\n",
    "\n",
    "    def call(self, x, hidden):\n",
    "        x = self.embedding(x)\n",
    "        output, state = self.gru(x, initial_state = hidden)\n",
    "        return output, state\n",
    "\n",
    "      def initialize_hidden_state(self):\n",
    "        return tf.zeros((self.batch_sz, self.enc_units))"
   ]
  },
  {
   "cell_type": "code",
   "execution_count": 18,
   "metadata": {
    "colab": {},
    "colab_type": "code",
    "id": "VkG8UCY-1ej7"
   },
   "outputs": [],
   "source": [
    "class BahdanauAttention(tf.keras.layers.Layer):\n",
    "      def __init__(self, units):\n",
    "        super(BahdanauAttention, self).__init__()\n",
    "        self.W1 = tf.keras.layers.Dense(units)\n",
    "        self.W2 = tf.keras.layers.Dense(units)\n",
    "        self.V = tf.keras.layers.Dense(1)\n",
    "\n",
    "    def call(self, query, values):\n",
    "    # query hidden state shape == (batch_size, hidden size)\n",
    "    # query_with_time_axis shape == (batch_size, 1, hidden size)\n",
    "    # values shape == (batch_size, max_len, hidden size)\n",
    "    # we are doing this to broadcast addition along the time axis to calculate the score\n",
    "    query_with_time_axis = tf.expand_dims(query, 1)\n",
    "\n",
    "    # score shape == (batch_size, max_length, 1)\n",
    "    # we get 1 at the last axis because we are applying score to self.V\n",
    "    # the shape of the tensor before applying self.V is (batch_size, max_length, units)\n",
    "    score = self.V(tf.nn.tanh(\n",
    "        self.W1(query_with_time_axis) + self.W2(values)))\n",
    "\n",
    "    # attention_weights shape == (batch_size, max_length, 1)\n",
    "    attention_weights = tf.nn.softmax(score, axis=1)\n",
    "\n",
    "    # context_vector shape after sum == (batch_size, hidden_size)\n",
    "    context_vector = attention_weights * values\n",
    "    context_vector = tf.reduce_sum(context_vector, axis=1)\n",
    "\n",
    "    return context_vector, attention_weights"
   ]
  },
  {
   "cell_type": "code",
   "execution_count": 19,
   "metadata": {
    "colab": {},
    "colab_type": "code",
    "id": "ocxDmbhf1CwH"
   },
   "outputs": [],
   "source": [
    "class Decoder(tf.keras.Model):\n",
    "      def __init__(self, vocab_size, embedding_dim, dec_units, batch_sz):\n",
    "        super(Decoder, self).__init__()\n",
    "        self.batch_sz = batch_sz\n",
    "        self.dec_units = dec_units\n",
    "        self.embedding = Embedding(vocab_size, embedding_dim)\n",
    "        self.gru = GRU(self.dec_units,\n",
    "                                   return_sequences=True,\n",
    "                                   return_state=True,\n",
    "                                   recurrent_initializer='glorot_uniform')\n",
    "        self.fc = tf.keras.layers.Dense(vocab_size)\n",
    "        self.attention = BahdanauAttention(self.dec_units)\n",
    "\n",
    "    def call(self, x, hidden, enc_output):\n",
    "    # enc_output shape == (batch_size, max_length, hidden_size)\n",
    "        context_vector, attention_weights = self.attention(hidden, enc_output)\n",
    "\n",
    "    # x shape after passing through embedding == (batch_size, 1, embedding_dim)\n",
    "        x = self.embedding(x)\n",
    "\n",
    "    # x shape after concatenation == (batch_size, 1, embedding_dim + hidden_size)\n",
    "        x = tf.concat([tf.expand_dims(context_vector, 1), x], axis=-1)\n",
    "\n",
    "    # passing the concatenated vector to the GRU\n",
    "        output, state = self.gru(x)\n",
    "\n",
    "    # output shape == (batch_size * 1, hidden_size)\n",
    "        output = tf.reshape(output, (-1, output.shape[2]))\n",
    "\n",
    "    # output shape == (batch_size, vocab)\n",
    "        x = self.fc(output)\n",
    "\n",
    "        return x, state, attention_weights"
   ]
  },
  {
   "cell_type": "code",
   "execution_count": 20,
   "metadata": {
    "colab": {},
    "colab_type": "code",
    "id": "sxy7WA7ZxnvS"
   },
   "outputs": [],
   "source": [
    "optimizer = tf.keras.optimizers.Adam()\n",
    "loss_object = tf.keras.losses.SparseCategoricalCrossentropy(from_logits=True, reduction='none')\n",
    "def loss_function(real, pred):\n",
    "    mask = tf.math.logical_not(tf.math.equal(real, 0))\n",
    "    loss_ = loss_object(real, pred)\n",
    "    mask = tf.cast(mask, dtype=loss_.dtype)\n",
    "    loss_ *= mask\n",
    "    return tf.reduce_mean(loss_)"
   ]
  },
  {
   "cell_type": "markdown",
   "metadata": {},
   "source": [
    "# PARAMETERS OF MODEL"
   ]
  },
  {
   "cell_type": "code",
   "execution_count": 21,
   "metadata": {
    "colab": {},
    "colab_type": "code",
    "id": "RyfA35Wkj09m"
   },
   "outputs": [],
   "source": [
    "BATCH_SIZE = 256\n",
    "embedding_dim = 512\n",
    "enc_units = 512\n",
    "dec_units = 512"
   ]
  },
  {
   "cell_type": "code",
   "execution_count": 24,
   "metadata": {
    "colab": {},
    "colab_type": "code",
    "id": "oWilfPSdyyKx"
   },
   "outputs": [],
   "source": [
    "encoder = Encoder(eng_vocab, embedding_dim,enc_units,BATCH_SIZE)\n",
    "decoder = Decoder(german_vocab,embedding_dim,dec_units,BATCH_SIZE)"
   ]
  },
  {
   "cell_type": "code",
   "execution_count": 25,
   "metadata": {
    "colab": {},
    "colab_type": "code",
    "id": "cK_KPiOKjwrh"
   },
   "outputs": [],
   "source": [
    "dataset= tf.data.Dataset.from_tensor_slices((X_train,Y_train)).shuffle(50000)\n",
    "dataset = dataset.batch(BATCH_SIZE)"
   ]
  },
  {
   "cell_type": "code",
   "execution_count": 26,
   "metadata": {
    "colab": {},
    "colab_type": "code",
    "id": "h-RdjEbJohz0"
   },
   "outputs": [],
   "source": [
    "import os\n",
    "checkpoint_dir = '/content/drive/My Drive/training_checkpoints'\n",
    "checkpoint_prefix = os.path.join(checkpoint_dir, \"ckpt\")\n",
    "checkpoint = tf.train.Checkpoint(optimizer=optimizer,\n",
    "                                 encoder=encoder,\n",
    "                                 decoder=decoder)"
   ]
  },
  {
   "cell_type": "code",
   "execution_count": 27,
   "metadata": {
    "colab": {},
    "colab_type": "code",
    "id": "ibw8UOrTziXL"
   },
   "outputs": [],
   "source": [
    "@tf.function\n",
    "def train_step(inp, targ, enc_hidden):\n",
    "    loss = 0\n",
    "\n",
    "    with tf.GradientTape() as tape:\n",
    "        enc_output, enc_hidden = encoder(inp, enc_hidden)\n",
    "\n",
    "        dec_hidden = enc_hidden\n",
    "\n",
    "        dec_input = tf.expand_dims([german_tokenizer.word_index['start']] * BATCH_SIZE, 1)\n",
    "\n",
    "        for t in range(1, targ.shape[1]):\n",
    "      # passing enc_output to the decoder\n",
    "          predictions, dec_hidden, _ = decoder(dec_input, dec_hidden, enc_output)\n",
    "\n",
    "          loss += loss_function(targ[:, t], predictions)\n",
    "\n",
    "      # using teacher forcing\n",
    "          dec_input = tf.expand_dims(targ[:, t], 1)\n",
    "\n",
    "    batch_loss = (loss / int(targ.shape[1]))\n",
    "\n",
    "    variables = encoder.trainable_variables + decoder.trainable_variables\n",
    "\n",
    "    gradients = tape.gradient(loss, variables)\n",
    "\n",
    "    optimizer.apply_gradients(zip(gradients, variables))\n",
    "\n",
    "    return batch_loss"
   ]
  },
  {
   "cell_type": "code",
   "execution_count": 28,
   "metadata": {
    "colab": {
     "base_uri": "https://localhost:8080/",
     "height": 1000
    },
    "colab_type": "code",
    "id": "tLT-N2c6stcW",
    "outputId": "9e607a32-4d98-4002-c077-4894b99c215c"
   },
   "outputs": [
    {
     "name": "stdout",
     "output_type": "stream",
     "text": [
      "Epoch 1 Batch 0 Loss 1.5774\n",
      "Epoch 1 Batch 100 Loss 0.9625\n",
      "Epoch 1 Loss 1.0099\n",
      "Time taken for 1 epoch 197.50204372406006 sec\n",
      "\n",
      "Epoch 2 Batch 0 Loss 0.9130\n",
      "Epoch 2 Batch 100 Loss 0.8916\n",
      "Epoch 2 Loss 0.8707\n",
      "Time taken for 1 epoch 161.47234439849854 sec\n",
      "\n",
      "Epoch 3 Batch 0 Loss 0.8654\n",
      "Epoch 3 Batch 100 Loss 0.8606\n",
      "Epoch 3 Loss 0.7872\n",
      "Time taken for 1 epoch 160.09401655197144 sec\n",
      "\n",
      "Epoch 4 Batch 0 Loss 0.6836\n",
      "Epoch 4 Batch 100 Loss 0.7561\n",
      "Epoch 4 Loss 0.7124\n",
      "Time taken for 1 epoch 161.44120955467224 sec\n",
      "\n",
      "Epoch 5 Batch 0 Loss 0.6624\n",
      "Epoch 5 Batch 100 Loss 0.6462\n",
      "Epoch 5 Loss 0.6444\n",
      "Time taken for 1 epoch 160.38975715637207 sec\n",
      "\n",
      "Epoch 6 Batch 0 Loss 0.6260\n",
      "Epoch 6 Batch 100 Loss 0.6166\n",
      "Epoch 6 Loss 0.5818\n",
      "Time taken for 1 epoch 161.62716484069824 sec\n",
      "\n",
      "Epoch 7 Batch 0 Loss 0.5415\n",
      "Epoch 7 Batch 100 Loss 0.5027\n",
      "Epoch 7 Loss 0.5275\n",
      "Time taken for 1 epoch 160.1834750175476 sec\n",
      "\n",
      "Epoch 8 Batch 0 Loss 0.4626\n",
      "Epoch 8 Batch 100 Loss 0.4739\n",
      "Epoch 8 Loss 0.4755\n",
      "Time taken for 1 epoch 161.5344226360321 sec\n",
      "\n",
      "Epoch 9 Batch 0 Loss 0.4136\n",
      "Epoch 9 Batch 100 Loss 0.4503\n",
      "Epoch 9 Loss 0.4274\n",
      "Time taken for 1 epoch 160.1075553894043 sec\n",
      "\n",
      "Epoch 10 Batch 0 Loss 0.3903\n",
      "Epoch 10 Batch 100 Loss 0.3654\n",
      "Epoch 10 Loss 0.3834\n",
      "Time taken for 1 epoch 161.9498746395111 sec\n",
      "\n",
      "Epoch 11 Batch 0 Loss 0.3455\n",
      "Epoch 11 Batch 100 Loss 0.3510\n",
      "Epoch 11 Loss 0.3448\n",
      "Time taken for 1 epoch 160.09833240509033 sec\n",
      "\n",
      "Epoch 12 Batch 0 Loss 0.3041\n",
      "Epoch 12 Batch 100 Loss 0.2997\n",
      "Epoch 12 Loss 0.3078\n",
      "Time taken for 1 epoch 161.92480278015137 sec\n",
      "\n",
      "Epoch 13 Batch 0 Loss 0.2473\n",
      "Epoch 13 Batch 100 Loss 0.2702\n",
      "Epoch 13 Loss 0.2831\n",
      "Time taken for 1 epoch 160.11494040489197 sec\n",
      "\n",
      "Epoch 14 Batch 0 Loss 0.2302\n",
      "Epoch 14 Batch 100 Loss 0.2629\n",
      "Epoch 14 Loss 0.2539\n",
      "Time taken for 1 epoch 162.37450289726257 sec\n",
      "\n",
      "Epoch 15 Batch 0 Loss 0.2107\n",
      "Epoch 15 Batch 100 Loss 0.2255\n",
      "Epoch 15 Loss 0.2258\n",
      "Time taken for 1 epoch 160.09500670433044 sec\n",
      "\n",
      "Epoch 16 Batch 0 Loss 0.1935\n",
      "Epoch 16 Batch 100 Loss 0.1950\n",
      "Epoch 16 Loss 0.2024\n",
      "Time taken for 1 epoch 162.08609342575073 sec\n",
      "\n",
      "Epoch 17 Batch 0 Loss 0.1829\n",
      "Epoch 17 Batch 100 Loss 0.1897\n",
      "Epoch 17 Loss 0.1833\n",
      "Time taken for 1 epoch 160.35788822174072 sec\n",
      "\n",
      "Epoch 18 Batch 0 Loss 0.1625\n",
      "Epoch 18 Batch 100 Loss 0.1595\n",
      "Epoch 18 Loss 0.1671\n",
      "Time taken for 1 epoch 161.44980764389038 sec\n",
      "\n",
      "Epoch 19 Batch 0 Loss 0.1387\n",
      "Epoch 19 Batch 100 Loss 0.1639\n",
      "Epoch 19 Loss 0.1534\n",
      "Time taken for 1 epoch 160.30299711227417 sec\n",
      "\n",
      "Epoch 20 Batch 0 Loss 0.1280\n",
      "Epoch 20 Batch 100 Loss 0.1489\n",
      "Epoch 20 Loss 0.1393\n",
      "Time taken for 1 epoch 161.27349853515625 sec\n",
      "\n",
      "Epoch 21 Batch 0 Loss 0.1182\n",
      "Epoch 21 Batch 100 Loss 0.1163\n",
      "Epoch 21 Loss 0.1296\n",
      "Time taken for 1 epoch 160.00123405456543 sec\n",
      "\n",
      "Epoch 22 Batch 0 Loss 0.1119\n",
      "Epoch 22 Batch 100 Loss 0.1284\n",
      "Epoch 22 Loss 0.1209\n",
      "Time taken for 1 epoch 161.5520372390747 sec\n",
      "\n",
      "Epoch 23 Batch 0 Loss 0.0989\n",
      "Epoch 23 Batch 100 Loss 0.1079\n",
      "Epoch 23 Loss 0.1085\n",
      "Time taken for 1 epoch 159.80835890769958 sec\n",
      "\n",
      "Epoch 24 Batch 0 Loss 0.0835\n",
      "Epoch 24 Batch 100 Loss 0.0994\n",
      "Epoch 24 Loss 0.1006\n",
      "Time taken for 1 epoch 161.332501411438 sec\n",
      "\n",
      "Epoch 25 Batch 0 Loss 0.0813\n",
      "Epoch 25 Batch 100 Loss 0.0970\n",
      "Epoch 25 Loss 0.0923\n",
      "Time taken for 1 epoch 160.1097285747528 sec\n",
      "\n"
     ]
    }
   ],
   "source": [
    "EPOCHS = 25\n",
    "import time\n",
    "steps_per_epoch = 50000//BATCH_SIZE\n",
    "plot_loss=[]\n",
    "for epoch in range(EPOCHS):\n",
    "    start = time.time()\n",
    "\n",
    "    enc_hidden = encoder.initialize_hidden_state()\n",
    "    total_loss = 0\n",
    "\n",
    "    for (batch, (inp, targ)) in enumerate(dataset.take(50000//BATCH_SIZE)):\n",
    "        batch_loss = train_step(inp, targ, enc_hidden)\n",
    "        total_loss += batch_loss\n",
    "\n",
    "        if batch % 100 == 0:\n",
    "          print('Epoch {} Batch {} Loss {:.4f}'.format(epoch + 1,\n",
    "                                                   batch,\n",
    "                                                   batch_loss.numpy()))\n",
    "    if (epoch + 1) % 2 == 0:\n",
    "        checkpoint.save(file_prefix = checkpoint_prefix)\n",
    "        plot_loss.append(total_loss / steps_per_epoch)\n",
    "    print('Epoch {} Loss {:.4f}'.format(epoch + 1,\n",
    "                                      total_loss / steps_per_epoch))\n",
    "    print('Time taken for 1 epoch {} sec\\n'.format(time.time() - start))"
   ]
  },
  {
   "cell_type": "code",
   "execution_count": 31,
   "metadata": {
    "colab": {
     "base_uri": "https://localhost:8080/",
     "height": 295
    },
    "colab_type": "code",
    "id": "_EA7XKFvARGr",
    "outputId": "8d675e99-1e19-4a0d-c4d1-a935fffb703e"
   },
   "outputs": [
    {
     "data": {
      "image/png": "[encoded data removed]",
      "text/plain": [
       "<Figure size 432x288 with 1 Axes>"
      ]
     },
     "metadata": {
      "needs_background": "light",
      "tags": []
     },
     "output_type": "display_data"
    }
   ],
   "source": [
    "import matplotlib.pyplot as plt        ###Plot loss on training data\n",
    "plt.plot(plot_loss)                   \n",
    "plt.title('Model Loss plot')\n",
    "plt.xlabel('epochs')\n",
    "plt.ylabel('loss')\n",
    "plt.legend('Train')\n",
    "plt.show()"
   ]
  },
  {
   "cell_type": "code",
   "execution_count": 57,
   "metadata": {
    "colab": {},
    "colab_type": "code",
    "id": "AP6RwMBkBI0i"
   },
   "outputs": [],
   "source": [
    "def evaluate(sentence):\n",
    "    attention_plot = np.zeros((ger_len, ger_len))\n",
    "\n",
    "\n",
    "    inputs = [english_tokenizer.word_index[i] for i in sentence.split(' ')]\n",
    "    inputs = tf.keras.preprocessing.sequence.pad_sequences([inputs], maxlen=ger_len, padding='post')\n",
    "    inputs = tf.convert_to_tensor(inputs)\n",
    "\n",
    "    result = 'start '\n",
    "\n",
    "    hidden = [tf.zeros((1, enc_units))]\n",
    "      enc_out, enc_hidden = encoder(inputs, hidden)\n",
    "\n",
    "    dec_hidden = enc_hidden\n",
    "    dec_input = tf.expand_dims([german_tokenizer.word_index['start']], 0)\n",
    "\n",
    "    for t in range(ger_len):\n",
    "        predictions, dec_hidden, attention_weights = decoder(dec_input,\n",
    "                                                         dec_hidden,\n",
    "                                                         enc_out)\n",
    "\n",
    "    # storing the attention weights to plot later on\n",
    "        attention_weights = tf.reshape(attention_weights, (-1, ))\n",
    "        attention_plot[t] = attention_weights.numpy()\n",
    "\n",
    "        predicted_id = tf.argmax(predictions[0]).numpy()  ###greedy decoder \n",
    "\n",
    "        result += german_tokenizer.index_word[predicted_id] + ' '\n",
    "\n",
    "        if german_tokenizer.index_word[predicted_id] == 'end':  ###stop predicting once the model encounter 'end' token\n",
    "              return result, sentence, attention_plot\n",
    "\n",
    "        dec_input = tf.expand_dims([predicted_id], 0)\n",
    "\n",
    "    return result, sentence, attention_plot"
   ]
  },
  {
   "cell_type": "markdown",
   "metadata": {},
   "source": [
    "# PLOT ATTENTION WEIGHTS"
   ]
  },
  {
   "cell_type": "code",
   "execution_count": 76,
   "metadata": {
    "colab": {},
    "colab_type": "code",
    "id": "OdylpbedCSuK"
   },
   "outputs": [],
   "source": [
    "import matplotlib.ticker as ticker\n",
    "\n",
    "def plot_attention(attention, sentence, predicted_sentence):\n",
    "    fig = plt.figure(figsize=(5,5))\n",
    "    ax = fig.add_subplot(1, 1, 1)\n",
    "    ax.matshow(attention, cmap='gist_gray')\n",
    "\n",
    "    fontdict = {'fontsize': 14}\n",
    "\n",
    "    ax.set_xticklabels([''] + sentence, fontdict=fontdict, rotation=90)\n",
    "    ax.set_yticklabels([''] + predicted_sentence, fontdict=fontdict)\n",
    "\n",
    "    ax.xaxis.set_major_locator(ticker.MultipleLocator(1))\n",
    "    ax.yaxis.set_major_locator(ticker.MultipleLocator(1))\n",
    "\n",
    "    plt.show()"
   ]
  },
  {
   "cell_type": "code",
   "execution_count": 59,
   "metadata": {
    "colab": {
     "base_uri": "https://localhost:8080/",
     "height": 1000
    },
    "colab_type": "code",
    "id": "g1vCw29QCc83",
    "outputId": "921598a8-b5f4-4916-ef66-7c584a304976"
   },
   "outputs": [
    {
     "name": "stdout",
     "output_type": "stream",
     "text": [
      "src=[tom spent all afternoon cleaning his room],target=[start tom verbrachte den ganzen nachmittag damit sein zimmer aufzuräumen end],predicted=[start tom verbrachte den ganzen nachmittag über sein zimmer auf end ]\n",
      "src=[theres a lot of traffic on that street],target=[start auf der straße gibt es viel verkehr end],predicted=[start es gibt viel zu dieser straße end ]\n",
      "src=[id like to study with you tonight but i cant],target=[start ich würde heute abend gerne mit dir lernen aber ich kann nicht end],predicted=[start ich möchte heute abend gerne mit dir ein bisschen hingehen und ich nicht end ]\n",
      "src=[where does tom usually eat lunch],target=[start wo isst tom gewöhnlich zu mittag end],predicted=[start wo macht tom gewöhnlich zu mittag end ]\n",
      "src=[tom won 10000 in the lottery],target=[start tom gewann zehntausend dollar in der lotterie end],predicted=[start tom hat zehntausend dollar im lotto gewonnen end ]\n",
      "src=[we should help tom],target=[start wir sollten tom helfen end],predicted=[start wir sollten tom helfen end ]\n",
      "src=[this money is mine],target=[start dieses geld gehört mir end],predicted=[start das geld gehört mir end ]\n",
      "src=[josé showed himself to be a person of bad character],target=[start tom erwies sich als person mit schlechtem charakter end],predicted=[start es war selbst ein mensch einen schlechten fehler end ]\n",
      "src=[tom wants me to apologize],target=[start tom will dass ich mich entschuldige end],predicted=[start tom möchte dass ich mich entschuldigen end ]\n",
      "src=[do you want to live in boston],target=[start willst du in boston leben end],predicted=[start willst du in boston wohnen end ]\n",
      "src=[it was already dark when tom got home],target=[start es war bereits dunkel als tom nach hause kam end],predicted=[start es war schon dunkel als tom nach hause kam end ]\n",
      "src=[trade between two countries can be complex],target=[start handelsbeziehungen zwischen zwei ländern können kompliziert sein end],predicted=[start erdbeben sind die vierzig sein end ]\n",
      "src=[dont feel bad tom didnt give me a present either],target=[start mach dir nichts draus tom hat mir auch nichts geschenkt end],predicted=[start sei nicht schlecht nicht gesagt hat gerade noch einmal gesehen end ]\n",
      "src=[tom isnt a miner],target=[start tom ist kein bergarbeiter end],predicted=[start tom ist kein raucher end ]\n",
      "src=[the prisoners fled from the concentration camp],target=[start die gefangenen flohen aus dem konzentrationslager end],predicted=[start der butler und am ursprünglichen geboren end ]\n",
      "src=[i do not like wearing anybody elses clothes],target=[start ich trage nicht gerne die sachen von anderen leuten end],predicted=[start ich wasche mir keine frage nicht end ]\n",
      "src=[tom wondered how his exwife and her new husband were getting along],target=[start tom wollte gerne wissen wie seine exfrau und ihr neuer ehemann miteinander auskommen end],predicted=[start tom fragte sich wie seine schwester und ihr vater und sahne end ]\n",
      "src=[i hurt my knee when i was playing soccer],target=[start ich habe mich beim fußballspielen am knie verletzt end],predicted=[start ich habe meinen knie als ich spiele fußball end ]\n",
      "src=[tom finds marys mother quite intimidating],target=[start tom findet marias mutter ziemlich einschüchternd end],predicted=[start tom hat marias mutter ziemlich gut end ]\n",
      "src=[ive got a question for you],target=[start ich habe eine frage an euch end],predicted=[start ich habe eine frage für dich end ]\n",
      "src=[it looks easy when you do it],target=[start wenn du das machst sieht es leicht aus end],predicted=[start es sieht so aus wenn du es zu tun end ]\n",
      "src=[tom stuck his nose where it didnt belong],target=[start tom steckte seine nase in dinge die ihn nichts angingen end],predicted=[start tom heftete seinen ganzen besten wo es nicht end ]\n",
      "src=[how close are you to tom],target=[start wie nahe stehen sie tom end],predicted=[start wie nahe stehst du tom end ]\n",
      "src=[i have faith in you tom],target=[start ich habe vertrauen in dich tom end],predicted=[start ich glaube ich tom end ]\n",
      "src=[i will start tonight],target=[start ich fange heute abend an end],predicted=[start ich werde heute abend aufbrechen end ]\n",
      "src=[i didnt understand any of that],target=[start ich habe nichts davon kapiert end],predicted=[start ich habe nichts davon verstanden end ]\n",
      "src=[i am hungry],target=[start ich habe hunger end],predicted=[start ich bin hungrig end ]\n",
      "src=[was tom crying],target=[start hat tom geweint end],predicted=[start hat tom gerade end ]\n",
      "src=[i will teach you to play chess],target=[start ich werde euch das schachspielen beibringen end],predicted=[start ich werde dir zum spielen beibringen end ]\n",
      "src=[how long is too long],target=[start wie lange ist zu lang end],predicted=[start wie lange ist zu lang end ]\n",
      "src=[i write poems in my free time],target=[start ich schreibe in meiner freizeit gedichte end],predicted=[start ich schreibe in meiner reise mehr im supermarkt end ]\n",
      "src=[ive got a proposition for you],target=[start ich mache ihnen ein angebot end],predicted=[start ich habe eine empfehlung für sie end ]\n",
      "src=[may i come right over],target=[start kann ich gleich mal rüberkommen end],predicted=[start kann ich aus der weise aus end ]\n",
      "src=[do you still have a headache],target=[start hast du noch immer kopfschmerzen end],predicted=[start hast du noch temperatur end ]\n",
      "src=[i want to watch this],target=[start ich möchte das sehen end],predicted=[start ich will diesen platz nehmen end ]\n",
      "src=[what a beautiful house],target=[start was für ein schönes haus end],predicted=[start was für ein schönes haus end ]\n",
      "src=[tom isnt here now],target=[start tom ist gerade nicht hier end],predicted=[start tom ist nicht jetzt hier end ]\n",
      "src=[do you like english],target=[start gefällt dir englisch end],predicted=[start magst du englisch end ]\n",
      "src=[if it rains the excursion will be called off],target=[start bei regen wird der ausflug abgesagt end],predicted=[start wenn es dieses buch zum laufen können end ]\n",
      "src=[i have greasy skin],target=[start ich habe fettige haut end],predicted=[start ich habe total leichtgläubig end ]\n",
      "src=[what does tom want to eat],target=[start was will tom denn essen end],predicted=[start was will tom essen end ]\n",
      "src=[that computer might not work],target=[start der rechner funktioniert möglicherweise nicht end],predicted=[start dieser rechner könnte nicht funktionieren end ]\n",
      "src=[its my fault this has happened],target=[start es ist mein fehler dass das geschehen ist end],predicted=[start es ist meine schuld dass tom geschehen ist end ]\n",
      "src=[i was not pleased],target=[start ich war nicht erbaut end],predicted=[start ich war unzufrieden end ]\n",
      "src=[im going to the well to get water],target=[start ich gehe jetzt zum brunnen wasser holen end],predicted=[start ich fahre zu lesen um das leben zu leben end ]\n",
      "src=[whats wrong the speakers arent working well],target=[start „was ist los“ – „die lautsprecher funktionieren nicht richtig“ end],predicted=[start was hat die fehler nicht alle nicht gut end ]\n",
      "src=[i dont worry about mistakes],target=[start ich mache mir über fehler keine gedanken end],predicted=[start ich mach mir nichts aus fehler end ]\n",
      "src=[tom and mary are discussing the situation],target=[start tom und maria besprechen die lage end],predicted=[start tom und maria besprechen die situation end ]\n",
      "src=[i can barely stand his behavior],target=[start ich kann sein benehmen nur schwer ertragen end],predicted=[start ich kann kaum seine benehmen ertragen end ]\n",
      "src=[its rather unique],target=[start das ist ziemlich einzigartig end],predicted=[start es ist furchtbar nur ein end ]\n",
      "src=[this isnt toms watch i never said it was],target=[start „das ist aber nicht toms uhr“ – „das habe ich ja auch nie behauptet“ end],predicted=[start das ist nicht toms ich dass es nicht gesagt habe end ]\n",
      "src=[do you know where he lives],target=[start weißt du wo er wohnt end],predicted=[start weißt du wo er lebt end ]\n",
      "src=[what an exciting game],target=[start was für ein aufregendes spiel end],predicted=[start was ein schreckliches spiel end ]\n",
      "src=[tom might be taller than you],target=[start tom könnte größer sein als du end],predicted=[start tom könnte schon weit als du end ]\n",
      "src=[i just dont know why],target=[start ich weiß nicht warum end],predicted=[start ich weiß einfach nicht warum end ]\n",
      "src=[the students walked in a single file],target=[start die schüler gingen im gänsemarsch end],predicted=[start die studenten kamen einer überwältigenden mehrheit end ]\n",
      "src=[whales feed on plankton and small fish],target=[start wale ernähren sich von plankton und kleinen fischen end],predicted=[start wale einem kleinen tage in verbindung end ]\n",
      "src=[when do you go back to japan],target=[start wann gehst du zurück nach japan end],predicted=[start wann gehst du zurück nach japan end ]\n",
      "src=[im never wrong],target=[start ich habe niemals unrecht end],predicted=[start ich habe nie falsch end ]\n",
      "src=[what does this word mean],target=[start was bedeutet dieses wort end],predicted=[start was steht da das end ]\n",
      "src=[tom said he had room in his garage for me to keep some of my things],target=[start tom sagte er habe in seiner garage platz um einige meiner dinge zu verstauen end],predicted=[start tom sagte er habe in seiner garage für meine freundin auf den chef zu schreiben end ]\n",
      "src=[they glanced at each other],target=[start sie warfen einander einen blick zu end],predicted=[start sie nahmen an sich an end ]\n",
      "src=[it took us half an hour to set up the tent],target=[start wir haben eine halbe stunde gebraucht das zelt aufzustellen end],predicted=[start es hat uns eine stunde um die uhr zum bahnhof zu gehen end ]\n",
      "src=[are you courageous],target=[start seid ihr mutig end],predicted=[start bist du mutig end ]\n",
      "src=[somebody tried to kill you],target=[start jemand hat versucht dich zu ermorden end],predicted=[start es hat versucht dich zu töten end ]\n",
      "src=[the ball bounced high in the air],target=[start der ball sprang hoch in die luft end],predicted=[start der ball sprang hoch hoch end ]\n",
      "src=[my younger brother swims every day in the summer],target=[start mein jüngerer bruder schwimmt im sommer jeden tag end],predicted=[start mein kleiner bruder fährt jeden tag in der klasse end ]\n",
      "src=[the police accused him of murder],target=[start die polizei klagte ihn wegen mord an end],predicted=[start die polizei wies ihn im schuss geklaut end ]\n",
      "src=[there is no smoke without fire],target=[start kein rauch ohne feuer end],predicted=[start in einem kalten tag ist kein feuer end ]\n",
      "src=[he concentrated on his studies],target=[start er konzentrierte sich aufs lernen end],predicted=[start er hat sich auf sein studium end ]\n",
      "src=[do you live alone],target=[start wohnst du allein end],predicted=[start wohnst du allein end ]\n",
      "src=[did you love me],target=[start liebtest du mich end],predicted=[start hast du mir enttäuscht end ]\n",
      "src=[why were you in that neighborhood],target=[start warum warst du in der gegend end],predicted=[start warum warst du in der gegend end ]\n",
      "src=[let me take a look],target=[start lasse mich das anschauen end],predicted=[start lass mich mal ansehen end ]\n",
      "src=[you havent done anything wrong],target=[start du hast nichts falsch gemacht end],predicted=[start du hast nichts falsches getan end ]\n",
      "src=[tom stole something from my house],target=[start tom hat etwas aus meinem haus gestohlen end],predicted=[start tom hat etwas von meinem haus gefunden end ]\n",
      "src=[in what year did the berlin wall fall],target=[start in welchem jahr fiel die berliner mauer end],predicted=[start in welchem jahr ist die berliner mauer end ]\n",
      "src=[each of them was given a prize],target=[start jeder von ihnen hat einen preis bekommen end],predicted=[start jeder war ein auge end ]\n",
      "src=[have you paid your taxes],target=[start hast du deine steuern bezahlt end],predicted=[start hast du deine schulden bezahlt end ]\n",
      "src=[tom exercised],target=[start tom hat sich ertüchtigt end],predicted=[start tom lockerte an end ]\n",
      "src=[i refuse to discuss the question],target=[start ich lehne es ab über dieses thema zu diskutieren end],predicted=[start ich lasse die frage nicht reden end ]\n",
      "src=[theyre all scared of tom],target=[start sie alle haben angst vor tom end],predicted=[start die haben alle angst vor tom end ]\n",
      "src=[does anybody live here],target=[start lebt hier jemand end],predicted=[start lebt hier hier end ]\n",
      "src=[you have to ask for permission from your teacher],target=[start du musst deinen lehrer um erlaubnis bitten end],predicted=[start du musst von der lehrer um meinen lehrer zu machen end ]\n",
      "src=[toms house is just about three kilometers from here],target=[start toms haus ist ungefähr drei kilometer von hier entfernt end],predicted=[start toms haus ist gerade mit einer reichen englisch end ]\n",
      "src=[i dont know them at all],target=[start ich kenne sie überhaupt nicht end],predicted=[start ich weiß nicht über dich end ]\n",
      "src=[tom played with his kids],target=[start tom spielte mit seinen kindern end],predicted=[start tom spielte mit seiner kinder auf end ]\n",
      "src=[can you climb the tree],target=[start kannst du auf den baum klettern end],predicted=[start kannst du auf den baum klettern end ]\n",
      "src=[these are new],target=[start diese sind neu end],predicted=[start diese sind die neue end ]\n",
      "src=[if anything happens let me know],target=[start wenn etwas passiert gebt mir bescheid end],predicted=[start wenn etwas passiert end ]\n",
      "src=[it has started to rain],target=[start es hat zu regnen begonnen end],predicted=[start es hat angefangen zu regnen end ]\n",
      "src=[dont you have a pen],target=[start habt ihr keinen stift end],predicted=[start hast du nicht einen stift end ]\n",
      "src=[tom and mary look healthy],target=[start tom und maria sehen gesund aus end],predicted=[start tom und maria sehen gesund aus end ]\n",
      "src=[tom often buys clothes online],target=[start tom kauft des öfteren klamotten online end],predicted=[start tom stellt manchmal oft im netz end ]\n",
      "src=[sorry its all my fault],target=[start entschuldigung es ist alles meine schuld end],predicted=[start entschuldigung es mir meine schuld end ]\n",
      "src=[i could kick myself for not inviting tom and mary to my party],target=[start ich könnte mich in den hintern beißen dass ich tom und maria nicht auf meine feier eingeladen habe end],predicted=[start ich konnte mich selbst als ich tom nicht zu erreichen können um maria zu treffen end ]\n",
      "src=[we were lucky],target=[start glück gehabt end],predicted=[start wir waren viel glück end ]\n",
      "src=[i went to the store to buy what i needed to make dinner],target=[start ich fuhr zum laden um zu kaufen was ich zur zubereitung des abendessens benötigte end],predicted=[start ich ging zu dem fahrrad zum essen ich das essen würde end ]\n",
      "src=[do you like any of these pictures],target=[start gefällt dir irgendeines dieser bilder end],predicted=[start magst du diese bilder end ]\n",
      "src=[is it my turn],target=[start bin ich an der reihe end],predicted=[start ist es mein ziel end ]\n"
     ]
    }
   ],
   "source": [
    "predicted = []\n",
    "actual = []\n",
    "for i in range(len(test)):\n",
    "\n",
    "    result, sentence, attention_plot = evaluate(test[:,0][i])\n",
    "    predicted.append(result.split())\n",
    "    references = [test[:,1][i].split()]\n",
    "    actual.append(references)\n",
    "    if i%100==0:\n",
    "        print('src=[%s],target=[%s],predicted=[%s]'%(test[:,0][i],test[:,1][i],result))"
   ]
  },
  {
   "cell_type": "code",
   "execution_count": 60,
   "metadata": {
    "colab": {
     "base_uri": "https://localhost:8080/",
     "height": 85
    },
    "colab_type": "code",
    "id": "wTR3vxqkd_pA",
    "outputId": "5d86aa25-8127-4be8-d326-16c5fe819dac"
   },
   "outputs": [
    {
     "name": "stdout",
     "output_type": "stream",
     "text": [
      "BLEU-1: 0.625683\n",
      "BLEU-2: 0.472794\n",
      "BLEU-3: 0.375506\n",
      "BLEU-4: 0.294959\n"
     ]
    }
   ],
   "source": [
    "from nltk.translate.bleu_score import corpus_bleu\n",
    "print('BLEU-1: %f' % corpus_bleu(actual, predicted, weights=(1.0, 0, 0, 0)))\n",
    "print('BLEU-2: %f' % corpus_bleu(actual, predicted, weights=(0.5, 0.5, 0, 0)))\n",
    "print('BLEU-3: %f' % corpus_bleu(actual, predicted, weights=(0.33, 0.33, 0.33, 0)))\n",
    "print('BLEU-4: %f' % corpus_bleu(actual, predicted, weights=(0.25, 0.25, 0.25, 0.25)))"
   ]
  },
  {
   "cell_type": "code",
   "execution_count": 77,
   "metadata": {
    "colab": {
     "base_uri": "https://localhost:8080/",
     "height": 381
    },
    "colab_type": "code",
    "id": "JKy3_Af1EZmi",
    "outputId": "df63ead9-79a6-4150-9d42-58aad8b54b5d"
   },
   "outputs": [
    {
     "data": {
      "image/png": "[encoded data removed]",
      "text/plain": [
       "<Figure size 360x360 with 1 Axes>"
      ]
     },
     "metadata": {
      "needs_background": "light",
      "tags": []
     },
     "output_type": "display_data"
    }
   ],
   "source": [
    "result, sentence, attention_plot = evaluate(test[:,0][0])\n",
    "attention_plot = attention_plot[:len(result.split(' ')), :len(sentence.split(' '))]\n",
    "plot_attention(attention_plot, sentence.split(' '), result.split(' '))"
   ]
  },
  {
   "cell_type": "code",
   "execution_count": 78,
   "metadata": {
    "colab": {
     "base_uri": "https://localhost:8080/",
     "height": 358
    },
    "colab_type": "code",
    "id": "C6EVTEpyPUjr",
    "outputId": "84b64d49-5731-41cc-9c3e-bb400980b3ac"
   },
   "outputs": [
    {
     "data": {
      "image/png": "[encoded data removed]",
      "text/plain": [
       "<Figure size 360x360 with 1 Axes>"
      ]
     },
     "metadata": {
      "needs_background": "light",
      "tags": []
     },
     "output_type": "display_data"
    }
   ],
   "source": [
    "result, sentence, attention_plot = evaluate(test[:,0][100])\n",
    "attention_plot = attention_plot[:len(result.split(' ')), :len(sentence.split(' '))]\n",
    "plot_attention(attention_plot, sentence.split(' '), result.split(' '))"
   ]
  },
  {
   "cell_type": "code",
   "execution_count": 87,
   "metadata": {
    "colab": {
     "base_uri": "https://localhost:8080/",
     "height": 1000
    },
    "colab_type": "code",
    "id": "VV3zIdscPkjc",
    "outputId": "2fbf144f-39c9-4275-cf3f-cde1769d4dd2"
   },
   "outputs": [
    {
     "data": {
      "image/png": "[encoded data removed]",
      "text/plain": [
       "<Figure size 360x360 with 1 Axes>"
      ]
     },
     "metadata": {
      "needs_background": "light",
      "tags": []
     },
     "output_type": "display_data"
    },
    {
     "data": {
      "image/png": "[encoded data removed]",
      "text/plain": [
       "<Figure size 360x360 with 1 Axes>"
      ]
     },
     "metadata": {
      "needs_background": "light",
      "tags": []
     },
     "output_type": "display_data"
    },
    {
     "data": {
      "image/png": "[encoded data removed]",
      "text/plain": [
       "<Figure size 360x360 with 1 Axes>"
      ]
     },
     "metadata": {
      "needs_background": "light",
      "tags": []
     },
     "output_type": "display_data"
    },
    {
     "data": {
      "image/png": "[encoded data removed]",
      "text/plain": [
       "<Figure size 360x360 with 1 Axes>"
      ]
     },
     "metadata": {
      "needs_background": "light",
      "tags": []
     },
     "output_type": "display_data"
    },
    {
     "data": {
      "image/png": "[encoded data removed]",
      "text/plain": [
       "<Figure size 360x360 with 1 Axes>"
      ]
     },
     "metadata": {
      "needs_background": "light",
      "tags": []
     },
     "output_type": "display_data"
    },
    {
     "data": {
      "image/png": "[encoded data removed]",
      "text/plain": [
       "<Figure size 360x360 with 1 Axes>"
      ]
     },
     "metadata": {
      "needs_background": "light",
      "tags": []
     },
     "output_type": "display_data"
    },
    {
     "data": {
      "image/png": "[encoded data removed]",
      "text/plain": [
       "<Figure size 360x360 with 1 Axes>"
      ]
     },
     "metadata": {
      "needs_background": "light",
      "tags": []
     },
     "output_type": "display_data"
    },
    {
     "data": {
      "image/png": "[encoded data removed]",
      "text/plain": [
       "<Figure size 360x360 with 1 Axes>"
      ]
     },
     "metadata": {
      "needs_background": "light",
      "tags": []
     },
     "output_type": "display_data"
    },
    {
     "data": {
      "image/png": "[encoded data removed]",
      "text/plain": [
       "<Figure size 360x360 with 1 Axes>"
      ]
     },
     "metadata": {
      "needs_background": "light",
      "tags": []
     },
     "output_type": "display_data"
    }
   ],
   "source": [
    "i = [10,25,562, 3305, 2788,9990,4789,2205,7654]\n",
    "for j in i:\n",
    "    result, sentence, attention_plot = evaluate(test[:,0][j])\n",
    "    attention_plot = attention_plot[:len(result.split(' ')), :len(sentence.split(' '))]\n",
    "    plot_attention(attention_plot, sentence.split(' '), result.split(' '))"
   ]
  },
  {
   "cell_type": "code",
   "execution_count": null,
   "metadata": {
    "colab": {},
    "colab_type": "code",
    "id": "vewjW-7WQ1PP"
   },
   "outputs": [],
   "source": []
  }
 ],
 "metadata": {
  "accelerator": "GPU",
  "colab": {
   "collapsed_sections": [],
   "name": "Untitled4.ipynb",
   "provenance": []
  },
  "kernelspec": {
   "display_name": "Python 3",
   "language": "python",
   "name": "python3"
  },
  "language_info": {
   "codemirror_mode": {
    "name": "ipython",
    "version": 3
   },
   "file_extension": ".py",
   "mimetype": "text/x-python",
   "name": "python",
   "nbconvert_exporter": "python",
   "pygments_lexer": "ipython3",
   "version": "3.6.6"
  }
 },
 "nbformat": 4,
 "nbformat_minor": 1
}
